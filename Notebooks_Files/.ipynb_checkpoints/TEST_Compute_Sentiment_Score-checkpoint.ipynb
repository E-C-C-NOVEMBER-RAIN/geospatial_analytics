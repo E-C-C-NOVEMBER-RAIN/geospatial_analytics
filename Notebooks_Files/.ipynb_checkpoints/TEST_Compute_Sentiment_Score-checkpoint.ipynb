{
 "cells": [
  {
   "cell_type": "code",
   "execution_count": 22,
   "metadata": {},
   "outputs": [
    {
     "data": {
      "text/plain": [
       "0.39166666666666666"
      ]
     },
     "execution_count": 22,
     "metadata": {},
     "output_type": "execute_result"
    }
   ],
   "source": [
    "#TextBlob is a Python (2 and 3) library for processing textual data. \n",
    "#It provides a simple API for diving into common natural language processing (NLP) tasks \n",
    "#such as part-of-speech tagging, noun phrase extraction, sentiment analysis, classification, translation, and more.\n",
    "#Create a TextBlob\n",
    "from textblob import TextBlob   #Part-of-speech Tagging\n",
    "wiki = TextBlob(\"Python is a high-level, general-purpose programming language.\")  \n",
    "#[('Python', 'NNP'), ('is', 'VBZ'), ('a', 'DT'), ('high-level', 'JJ'), ('general-purpose', 'JJ'), ('programming', 'NN'), ('language', 'NN')]  #Noun Phrase Extraction¶\n",
    "wiki.noun_phrases   #WordList(['python'])\n",
    "#Tokenization\n",
    "zen = TextBlob(\"Beautiful is better than ugly. \"\n",
    "               \"Explicit is better than implicit. \"\n",
    "                \"Simple is better than complex.\")\n",
    "#zen.word      #WordList(['Beautiful', 'is', 'better', 'than', 'ugly', 'Explicit', 'is', 'better', 'than', 'implicit', 'Simple', 'is', 'better', 'than', 'complex'])\n",
    "zen.sentences     #[Sentence(\"Beautiful is better than ugly.\"), Sentence(\"Explicit is better than implicit.\"), Sentence(\"Simple is better than complex.\")]\n",
    "#Sentiment Analysis\n",
    "testimonial = TextBlob(\"Textblob is amazingly simple to use. What great fun!\")\n",
    "testimonial.sentiment\n",
    "#Sentiment(polarity=0.39166666666666666, subjectivity=0.4357142857142857)\n",
    "testimonial.sentiment.polarity\n",
    "#0.39166666666666666"
   ]
  },
  {
   "cell_type": "code",
   "execution_count": 2,
   "metadata": {},
   "outputs": [
    {
     "data": {
      "text/plain": [
       "Sentiment(polarity=0.0, subjectivity=0.0)"
      ]
     },
     "execution_count": 2,
     "metadata": {},
     "output_type": "execute_result"
    }
   ],
   "source": [
    "#Create a TextBlob\n",
    "from textblob import TextBlob\n",
    "\n",
    "#Sentiment Analysis\n",
    "#Example: Apr1-2\n",
    "#id: 8530\n",
    "testimonial = TextBlob(\"Follow @teamvivekbindra For Business Growth.\\n\\n#badabusiness #drvivekbindra #businessgrowth #business #businessconsultant #businessgoals #education #learnathome #corona #lockdown #lockdown2020 #pune #punebusiness\\u2026 https://t.co/p3sa9xq6es\")\n",
    "testimonial.sentiment\n",
    "#Sentiment(polarity=0.0, subjectivity=0.0)\n",
    "###### same with the second column ====> sentiment score ==> sentiment polarity=0.0"
   ]
  },
  {
   "cell_type": "code",
   "execution_count": 3,
   "metadata": {},
   "outputs": [
    {
     "data": {
      "text/plain": [
       "Sentiment(polarity=0.125, subjectivity=0.625)"
      ]
     },
     "execution_count": 3,
     "metadata": {},
     "output_type": "execute_result"
    }
   ],
   "source": [
    "#Create a TextBlob\n",
    "from textblob import TextBlob\n",
    "\n",
    "#Sentiment Analysis\n",
    "#Example: Apr1-2\n",
    "#id: 4032\n",
    "testimonial = TextBlob(\"A couple of likely lads captured by @sam_brumby through ourprintstogether supporting photographers dealing with this corona pain in the @$$ #printedbypixel on Kodak Endura Premier Gloss archival photo paper, out of\\u2026 https://t.co/qOUtJYaHua\")\n",
    "testimonial.sentiment\n",
    "#Sentiment(polarity=0.125, subjectivity=0.625)\n",
    "###### same with the second column ====> sentiment score ==> sentiment polarity=0.0"
   ]
  },
  {
   "cell_type": "code",
   "execution_count": 8,
   "metadata": {},
   "outputs": [
    {
     "data": {
      "text/plain": [
       "Sentiment(polarity=-0.6, subjectivity=0.9)"
      ]
     },
     "execution_count": 8,
     "metadata": {},
     "output_type": "execute_result"
    }
   ],
   "source": [
    "#Create a TextBlob\n",
    "from textblob import TextBlob\n",
    "\n",
    "#Sentiment Analysis\n",
    "#Example: Apr1-2\n",
    "#id: 478272\n",
    "testimonial = TextBlob(\"Question is this plastic gonna keep you from getting corona? 7-Eleven crazy as hell @ 7-Eleven https://t.co/C1acY5Y2IY\")\n",
    "testimonial.sentiment\n",
    "#Sentiment(polarity=-0.6, subjectivity=0.9)\n",
    "###### same with the second column ====> sentiment score ==> sentiment polarity=0.75"
   ]
  },
  {
   "cell_type": "code",
   "execution_count": 8,
   "metadata": {},
   "outputs": [
    {
     "data": {
      "text/plain": [
       "Sentiment(polarity=0.2, subjectivity=0.565)"
      ]
     },
     "execution_count": 8,
     "metadata": {},
     "output_type": "execute_result"
    }
   ],
   "source": [
    "from textblob import TextBlob\n",
    "\n",
    "#Sentiment Analysis\n",
    "#id: 478272\n",
    "testimonial = TextBlob(\"Good morning! I miss Chacha Doggie very much! almost crying wuwuwuwu Holly shit wtf hahahha\")\n",
    "testimonial.sentiment"
   ]
  },
  {
   "cell_type": "code",
   "execution_count": null,
   "metadata": {},
   "outputs": [],
   "source": []
  },
  {
   "cell_type": "code",
   "execution_count": null,
   "metadata": {},
   "outputs": [],
   "source": []
  }
 ],
 "metadata": {
  "kernelspec": {
   "display_name": "Python 3",
   "language": "python",
   "name": "python3"
  },
  "language_info": {
   "codemirror_mode": {
    "name": "ipython",
    "version": 3
   },
   "file_extension": ".py",
   "mimetype": "text/x-python",
   "name": "python",
   "nbconvert_exporter": "python",
   "pygments_lexer": "ipython3",
   "version": "3.7.6"
  }
 },
 "nbformat": 4,
 "nbformat_minor": 4
}
