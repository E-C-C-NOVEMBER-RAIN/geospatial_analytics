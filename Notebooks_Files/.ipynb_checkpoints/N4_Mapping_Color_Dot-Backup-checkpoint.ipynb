{
 "cells": [
  {
   "cell_type": "code",
   "execution_count": null,
   "metadata": {},
   "outputs": [],
   "source": [
    "import pandas as pd\n",
    "import seaborn as sns\n",
    "import matplotlib.pyplot as plt\n",
    "import numpy as np\n",
    "import json\n",
    "import folium\n",
    "from folium import plugins\n",
    "%matplotlib inline\n",
    "#./../Output_Csv_Files/output-2020-04-01.csv\n",
    "#./. ==> current dir.\n",
    "#./../==> go up one dir. \n",
    "\n",
    "import os\n",
    "directory = './../Dataset5_MainTweetsFieldsAndScores/'  #full dir. path\n",
    "files = os.listdir(directory)  #list the files in a dir.\n",
    "output_files = []  #create an empty list\n",
    "for _file in files:\n",
    "    output_files.append(os.path.join(directory, _file))     # join two names \n",
    "output_files  #append , for each files, build the file, append it to the list\n",
    "\n",
    "#21187  after add one month ===>40255    \n",
    "#Geospatial_Analy_Proj/Dataset5_MainTweetsFieldsAndScores\n",
    "#output-2020-04-10  ===> 0 tweets\n",
    "m = folium.Map()\n",
    "count = 0\n",
    "\n",
    "for idx in range(len(output_files)):\n",
    "    df = pd.read_csv(output_files[idx])\n",
    "    count += len(df)\n",
    "\n",
    "    def getColor(score):\n",
    "        if score > 0.01:\n",
    "            return 'green'\n",
    "        elif score <= 0.01 and score >= -0.01 :\n",
    "            return 'orange'\n",
    "        elif score < -0.01:\n",
    "            return 'red'\n",
    "    df['color'] = df['Sentiment Score'].apply(getColor)  # adding a column \n",
    "\n",
    "    for idx in range(len(df)):\n",
    "        folium.CircleMarker([df.iloc[idx, 3], df.iloc[idx, 2]],\n",
    "                            color = df.iloc[idx, 4],\n",
    "                            fill=True,\n",
    "                            fill_opacity=0.7,\n",
    "                            fill_color=df.iloc[idx, 4],\n",
    "                           ).add_to(m)\n",
    "print(count)       \n",
    "m\n"
   ]
  },
  {
   "cell_type": "code",
   "execution_count": null,
   "metadata": {},
   "outputs": [],
   "source": [
    "!pip install -U textblob\n",
    "!python -m textblob.download_corpora"
   ]
  },
  {
   "cell_type": "code",
   "execution_count": null,
   "metadata": {},
   "outputs": [],
   "source": []
  }
 ],
 "metadata": {
  "kernelspec": {
   "display_name": "Python 3",
   "language": "python",
   "name": "python3"
  },
  "language_info": {
   "codemirror_mode": {
    "name": "ipython",
    "version": 3
   },
   "file_extension": ".py",
   "mimetype": "text/x-python",
   "name": "python",
   "nbconvert_exporter": "python",
   "pygments_lexer": "ipython3",
   "version": "3.7.6"
  }
 },
 "nbformat": 4,
 "nbformat_minor": 4
}
